{
  "cells": [
    {
      "cell_type": "markdown",
      "metadata": {
        "colab_type": "text",
        "id": "view-in-github"
      },
      "source": [
        "<a href=\"https://colab.research.google.com/github/Ddkaba/IAD_Lab_2/blob/main/IAD_Lab2.ipynb\" target=\"_parent\"><img src=\"https://colab.research.google.com/assets/colab-badge.svg\" alt=\"Open In Colab\"/></a>"
      ]
    },
    {
      "cell_type": "markdown",
      "metadata": {
        "id": "HCXwWZbElzuB"
      },
      "source": [
        "Группа 4232\n",
        "\n",
        "Спицов А.\n",
        "\n",
        "Михайлов Д.\n",
        "\n",
        "Вариант №2 (Анализ вин по трем производителям)"
      ]
    },
    {
      "cell_type": "code",
      "execution_count": 3,
      "metadata": {
        "id": "FnUK3aahlY4P"
      },
      "outputs": [],
      "source": [
        "import os\n",
        "import pandas as pd"
      ]
    },
    {
      "cell_type": "code",
      "execution_count": null,
      "metadata": {
        "id": "hn6jx2eymNks"
      },
      "outputs": [],
      "source": [
        "dataset = pd.read_csv(\"V2_classification_lr3.csv\")"
      ]
    },
    {
      "cell_type": "code",
      "execution_count": null,
      "metadata": {},
      "outputs": [],
      "source": [
        "print(\"Общая информация\")\n",
        "print(dataset.info())\n",
        "\n",
        "print(f\"Количество записей (объектов): {dataset.shape[0]}\")\n",
        "print(f\"Количество признаков (фич): {dataset.shape[1]}\")\n",
        "\n",
        "print(\"\\nНазвания столбцов:\")\n",
        "print(dataset.columns.tolist())\n",
        "\n",
        "print(\"\\nТипы данных:\")\n",
        "print(dataset.dtypes)\n",
        "\n",
        "print(\"\\nПропущенные значения:\")\n",
        "missing_values = dataset.isnull().sum()\n",
        "print(missing_values)\n",
        "print(f\"Общее количество пропущенных значений: {missing_values.sum()}\")\n",
        "\n",
        "print(\"Целевая переменная\")\n",
        "target_column = \"target\"\n",
        "if target_column in dataset.columns:\n",
        "    print(f\"\\nЦелевая переменная: {target_column}\")\n",
        "    print(f\"Тип данных целевой переменной: {dataset[target_column].dtype}\")\n",
        "    unique_values = dataset[target_column].unique()\n",
        "    print(f\"Уникальные значения целевой переменной (первые 20): {unique_values[:20]}\")\n",
        "    print(f\"Всего уникальных значений: {unique_values.size}\")\n",
        "    if dataset[target_column].nunique() <= 20:\n",
        "        print(\"Распределение классов:\")\n",
        "        print(dataset[target_column].value_counts())\n",
        "        print(\"Процентное соотношение классов:\")\n",
        "        print(dataset[target_column].value_counts(normalize=True) * 100)\n",
        "\n",
        "print(\"Статистика\")\n",
        "print(dataset.describe())\n",
        "\n",
        "print(\"Анализ кат. признаков\")\n",
        "categorical_features = []\n",
        "for col in dataset.columns:\n",
        "    unique_values = dataset[col].nunique(dropna=True)\n",
        "    if unique_values <= 10:\n",
        "        categorical_features.append(col)\n",
        "        print(f\"{col}: {unique_values} уникальных значений - {dataset[col].unique()}\")\n",
        "\n",
        "print(f\"\\nВсего категориальных признаков: {len(categorical_features)}\")\n",
        "\n",
        "print(\"Корреляции признаков с целевой переменной:\")\n",
        "corr_matrix = dataset.corr(numeric_only=True)\n",
        "if target_column in corr_matrix.columns:\n",
        "    print(corr_matrix[target_column].drop(labels=[target_column]).sort_values(ascending=False))"
      ]
    }
  ],
  "metadata": {
    "colab": {
      "authorship_tag": "ABX9TyMvwvvRKXJbiSmUXOjx5rWQ",
      "include_colab_link": true,
      "provenance": []
    },
    "kernelspec": {
      "display_name": "Python 3",
      "name": "python3"
    },
    "language_info": {
      "name": "python"
    }
  },
  "nbformat": 4,
  "nbformat_minor": 0
}
