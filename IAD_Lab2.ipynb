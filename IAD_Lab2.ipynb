{
  "nbformat": 4,
  "nbformat_minor": 0,
  "metadata": {
    "colab": {
      "provenance": [],
      "authorship_tag": "ABX9TyMvwvvRKXJbiSmUXOjx5rWQ",
      "include_colab_link": true
    },
    "kernelspec": {
      "name": "python3",
      "display_name": "Python 3"
    },
    "language_info": {
      "name": "python"
    }
  },
  "cells": [
    {
      "cell_type": "markdown",
      "metadata": {
        "id": "view-in-github",
        "colab_type": "text"
      },
      "source": [
        "<a href=\"https://colab.research.google.com/github/Ddkaba/IAD_Lab_2/blob/main/IAD_Lab2.ipynb\" target=\"_parent\"><img src=\"https://colab.research.google.com/assets/colab-badge.svg\" alt=\"Open In Colab\"/></a>"
      ]
    },
    {
      "cell_type": "markdown",
      "source": [
        "Группа 4232\n",
        "\n",
        "Спицов А.\n",
        "\n",
        "Михайлов Д.\n",
        "\n",
        "Вариант №2 (Анализ вин по трем производителям)"
      ],
      "metadata": {
        "id": "HCXwWZbElzuB"
      }
    },
    {
      "cell_type": "code",
      "execution_count": 3,
      "metadata": {
        "id": "FnUK3aahlY4P"
      },
      "outputs": [],
      "source": [
        "import os\n",
        "import pandas as pd"
      ]
    },
    {
      "cell_type": "code",
      "source": [
        "dataset = pd.read_csv(\"https://raw.githubusercontent.com/Ddkaba/IAD_Lab_2/main/V2_classification_lr3.csv\", index_col=0)\n",
        "if 'No' in dataset.columns:\n",
        "    dataset = dataset.drop(columns=['No'])"
      ],
      "metadata": {
        "id": "hn6jx2eymNks"
      },
      "execution_count": 4,
      "outputs": []
    }
  ]
}